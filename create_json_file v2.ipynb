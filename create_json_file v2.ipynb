{
 "cells": [
  {
   "cell_type": "code",
   "execution_count": 3,
   "metadata": {},
   "outputs": [],
   "source": [
    "import glob\n",
    "import os\n",
    "import json\n",
    "from PIL import Image, ImageDraw\n",
    "from shapely.geometry import Polygon\n",
    "import numpy as np\n",
    "import pickle"
   ]
  },
  {
   "cell_type": "markdown",
   "metadata": {},
   "source": [
    "# Convert Labelme JSON files to one coco json file"
   ]
  },
  {
   "cell_type": "code",
   "execution_count": 4,
   "metadata": {},
   "outputs": [],
   "source": [
    "class labelme2coco(object):\n",
    "    def __init__(self,labelme_json=[],save_json_path='./new.json',classes={}):\n",
    "        '''\n",
    "        :param labelme_json: all the labelme json files\n",
    "        :param save_json_path: the dir of saved json files\n",
    "        '''\n",
    "        self.labelme_json=labelme_json\n",
    "        self.save_json_path=save_json_path\n",
    "        self.images=[]\n",
    "        self.categories=[]\n",
    "        self.annotations=[]\n",
    "        # self.data_coco = {}\n",
    "        self.__classes__ = classes\n",
    "        self.label=['background']\n",
    "        self.annID=1\n",
    "        #self.height=4000\n",
    "        #self.width=6000\n",
    "\n",
    "        self.save_json()\n",
    "\n",
    "    def data_transfer(self):\n",
    "        null_num = 0\n",
    "        for num,json_file in enumerate(self.labelme_json):\n",
    "            #if num % 10 != 0:\n",
    "            #    continue\n",
    "            with open(json_file,'r') as fp:\n",
    "\n",
    "                data = json.load(fp)  # load the json files\n",
    "                if len(data['shapes']) == 0:\n",
    "                    print(json_file)\n",
    "                    null_num += 1\n",
    "                    continue\n",
    "                \n",
    "                self.images.append(self.image(data,num))\n",
    "                for shapes in data['shapes']:\n",
    "                    #full_label=shapes['label']\n",
    "                    label=shapes['label'].split('_')[0]\n",
    "                    #需要根据 label 的具体格式，调整这几行代码\n",
    "                    #if full_label.find(\"spike\") != -1:\n",
    "                        #label = \"spike\"\n",
    "                    #if full_label.find(\"barley\") != -1:\n",
    "                        #label = \"barley\"\n",
    "                    if label not in self.label:\n",
    "                        self.categories.append(self.create_category(label))\n",
    "                        self.label.append(label)\n",
    "                    \n",
    "                    points=shapes['points']\n",
    "                    if len(points) < 3:\n",
    "                        continue\n",
    "                    self.annotations.append(self.annotation(points,label,num))\n",
    "                    self.annID+=1\n",
    "        \n",
    "        print(\"Total convert {} json files\".format(num + 1- null_num))\n",
    "\n",
    "    def image(self,data,num):\n",
    "        image={}\n",
    "        #image size is 4000 * 6000\n",
    "        #img = utils.img_b64_to_arr(data['imageData']) \n",
    "        #height, width = img.shape[:2]\n",
    "        #img = None\n",
    "        \n",
    "        image['height']= data['imageHeight']\n",
    "        image['width'] = data['imageWidth']\n",
    "        image['id']=num+1\n",
    "        image['file_name'] = data['imagePath'].split('/')[-1]\n",
    "\n",
    "        self.height=data['imageHeight']\n",
    "        self.width=data['imageWidth']\n",
    "\n",
    "        return image\n",
    "\n",
    "    #根据 new label 生成一个新的 Category\n",
    "    def create_category(self,label):\n",
    "        category={}\n",
    "        category['supercategory'] = \"wheat\" #这个值无实际用处\n",
    "\n",
    "        category['id'] = self.__classes__[label] #len(self.label) #self.label 中，初始有个background，所以直接取list的 length\n",
    "        category['name'] = label\n",
    "        return category\n",
    "\n",
    "    def annotation(self,points,label,num):\n",
    "        annotation={}\n",
    "        annotation['segmentation']=[np.asarray(points).flatten().tolist()]\n",
    "        annotation['iscrowd'] = 0\n",
    "        annotation['image_id'] = num+1\n",
    "\n",
    "        annotation['bbox'] = list(map(float,self.getbbox(points)))\n",
    "\n",
    "        annotation['category_id'] = self.getcatid(label)\n",
    "        annotation['id'] = self.annID\n",
    "\n",
    "        # Get the area value\n",
    "        poly = Polygon(points)\n",
    "        annotation['area']=round(poly.area, 6)\n",
    "        return annotation\n",
    "\n",
    "    def getcatid(self,label):\n",
    "        for category in self.categories:\n",
    "            if label == category['name']:\n",
    "                return category['id']\n",
    "        return -1\n",
    "\n",
    "    '''\n",
    "    def getbbox(self,points):\n",
    "\n",
    "        polygons = points\n",
    "        mask = self.polygons_to_mask([self.height,self.width], polygons)\n",
    "        return self.mask2box(mask)\n",
    "    '''\n",
    "    def getbbox(self, points):\n",
    "        polygons =  points\n",
    "        #px = [x for x, y in polygons]\n",
    "        #py = [y for x, y in polygons]\n",
    "        px = []\n",
    "        py = []\n",
    "        im_height = self.height\n",
    "        im_width = self.width\n",
    "\n",
    "        for x,y in polygons:\n",
    "            if x < 0:\n",
    "                x = 0\n",
    "            if y < 0 :\n",
    "                y = 0\n",
    "            if x >= im_width:\n",
    "                x = im_width -1\n",
    "            if y >= im_height:\n",
    "                y = im_height -1\n",
    "            px.append(int(x))\n",
    "            py.append(int(y))\n",
    "\n",
    "        x1 = np.min(px)\n",
    "        y1 = np.min(py)\n",
    "        x2 = np.max(px)\n",
    "        y2 = np.max(py)\n",
    "        return [x1, y1, x2-x1, y2-y1] # [x1,y1,w,h] 对应COCO的bbox格式\n",
    "\n",
    "    def mask2box(self, mask):\n",
    "        '''从mask反算出其边框\n",
    "        mask：[h,w]  0、1组成的图片\n",
    "        1对应对象，只需计算1对应的行列号（左上角行列号，右下角行列号，就可以算出其边框）\n",
    "        '''\n",
    "        # np.where(mask==1)\n",
    "        index = np.argwhere(mask == 1)\n",
    "        rows = index[:, 0]\n",
    "        clos = index[:, 1]\n",
    "        # 解析左上角行列号\n",
    "        left_top_r = np.min(rows)  # y\n",
    "        left_top_c = np.min(clos)  # x\n",
    "\n",
    "        # 解析右下角行列号\n",
    "        right_bottom_r = np.max(rows)\n",
    "        right_bottom_c = np.max(clos)\n",
    "\n",
    "        # return [(left_top_r,left_top_c),(right_bottom_r,right_bottom_c)]\n",
    "        # return [(left_top_c, left_top_r), (right_bottom_c, right_bottom_r)]\n",
    "        # return [left_top_c, left_top_r, right_bottom_c, right_bottom_r]  # [x1,y1,x2,y2]\n",
    "        return [left_top_c, left_top_r, right_bottom_c-left_top_c, right_bottom_r-left_top_r]  # [x1,y1,w,h] 对应COCO的bbox格式\n",
    "\n",
    "    def polygons_to_mask(self,img_shape, polygons):\n",
    "        mask = np.zeros(img_shape, dtype=np.uint8)\n",
    "        mask = Image.fromarray(mask)\n",
    "        xy = list(map(tuple, polygons))\n",
    "        ImageDraw.Draw(mask).polygon(xy=xy, outline=1, fill=1)\n",
    "        mask = np.array(mask, dtype=bool)\n",
    "        return mask\n",
    "\n",
    "    def data2coco(self):\n",
    "        data_coco={}\n",
    "        data_coco['images']=self.images\n",
    "        data_coco['categories']=self.categories\n",
    "        data_coco['annotations']=self.annotations\n",
    "        return data_coco\n",
    "\n",
    "    def save_json(self):\n",
    "        self.data_transfer()\n",
    "        self.data_coco = self.data2coco()\n",
    "\n",
    "        json.dump(self.data_coco, open(self.save_json_path, 'w'), indent=4)  # indent=4"
   ]
  },
  {
   "cell_type": "code",
   "execution_count": 5,
   "metadata": {},
   "outputs": [],
   "source": [
    "# Barley seeds malt classes:\n",
    "malt_classes = {\"up\":1,\"down\":2}"
   ]
  },
  {
   "cell_type": "code",
   "execution_count": 6,
   "metadata": {},
   "outputs": [],
   "source": [
    "# change 1，2 ，3，4，acrospire to 1\n",
    "seeds_malt_classes = {\"0\":1,\"1\":1, \"2\":1, \"3\":1, \"4\":1, \"acrospire\":1}"
   ]
  },
  {
   "cell_type": "code",
   "execution_count": 7,
   "metadata": {},
   "outputs": [
    {
     "data": {
      "text/plain": [
       "1276"
      ]
     },
     "execution_count": 7,
     "metadata": {},
     "output_type": "execute_result"
    }
   ],
   "source": [
    "train_1_jsons = glob.glob(r'E:\\Temp\\barley_malt\\single_seeds\\mini_train_set_single1\\*.json')\n",
    "train_2_jsons = glob.glob(r'E:\\Temp\\barley_malt\\single_seeds\\mini_train_set_single2\\*.json')\n",
    "train_3_jsons = glob.glob(r'E:\\Temp\\barley_malt\\single_seeds\\mini_train_set_single3\\*.json')\n",
    "train_jsons = train_1_jsons + train_2_jsons + train_3_jsons\n",
    "len(train_jsons)"
   ]
  },
  {
   "cell_type": "code",
   "execution_count": 8,
   "metadata": {},
   "outputs": [
    {
     "name": "stdout",
     "output_type": "stream",
     "text": [
      "Total convert 1276 json files\n"
     ]
    },
    {
     "data": {
      "text/plain": [
       "<__main__.labelme2coco at 0x20a0ff15c88>"
      ]
     },
     "execution_count": 8,
     "metadata": {},
     "output_type": "execute_result"
    }
   ],
   "source": [
    "# train json\n",
    "labelme2coco(train_jsons,'./barley_malt/single_seeds/seeds_malt_train.json', seeds_malt_classes)"
   ]
  },
  {
   "cell_type": "code",
   "execution_count": 12,
   "metadata": {},
   "outputs": [
    {
     "data": {
      "text/plain": [
       "312"
      ]
     },
     "execution_count": 12,
     "metadata": {},
     "output_type": "execute_result"
    }
   ],
   "source": [
    "# test\n",
    "test_jsons = glob.glob(r'E:\\Temp\\barley_malt\\single_seeds\\test_set_instSegm_oneclass\\*.json')\n",
    "len(test_jsons)"
   ]
  },
  {
   "cell_type": "code",
   "execution_count": 14,
   "metadata": {},
   "outputs": [
    {
     "data": {
      "text/plain": [
       "['E:\\\\Temp\\\\barley_malt\\\\single_seeds\\\\test_set_instSegm_oneclass\\\\1102_10_001.json',\n",
       " 'E:\\\\Temp\\\\barley_malt\\\\single_seeds\\\\test_set_instSegm_oneclass\\\\1102_10_003.json',\n",
       " 'E:\\\\Temp\\\\barley_malt\\\\single_seeds\\\\test_set_instSegm_oneclass\\\\1102_10_004.json',\n",
       " 'E:\\\\Temp\\\\barley_malt\\\\single_seeds\\\\test_set_instSegm_oneclass\\\\1102_10_009.json',\n",
       " 'E:\\\\Temp\\\\barley_malt\\\\single_seeds\\\\test_set_instSegm_oneclass\\\\1102_10_019.json',\n",
       " 'E:\\\\Temp\\\\barley_malt\\\\single_seeds\\\\test_set_instSegm_oneclass\\\\1102_10_021.json',\n",
       " 'E:\\\\Temp\\\\barley_malt\\\\single_seeds\\\\test_set_instSegm_oneclass\\\\1102_10_022.json',\n",
       " 'E:\\\\Temp\\\\barley_malt\\\\single_seeds\\\\test_set_instSegm_oneclass\\\\1102_10_024.json',\n",
       " 'E:\\\\Temp\\\\barley_malt\\\\single_seeds\\\\test_set_instSegm_oneclass\\\\1102_10_025.json',\n",
       " 'E:\\\\Temp\\\\barley_malt\\\\single_seeds\\\\test_set_instSegm_oneclass\\\\1102_10_027.json',\n",
       " 'E:\\\\Temp\\\\barley_malt\\\\single_seeds\\\\test_set_instSegm_oneclass\\\\1102_10_032.json',\n",
       " 'E:\\\\Temp\\\\barley_malt\\\\single_seeds\\\\test_set_instSegm_oneclass\\\\1102_10_033.json',\n",
       " 'E:\\\\Temp\\\\barley_malt\\\\single_seeds\\\\test_set_instSegm_oneclass\\\\1102_10_044.json',\n",
       " 'E:\\\\Temp\\\\barley_malt\\\\single_seeds\\\\test_set_instSegm_oneclass\\\\1102_10_047.json',\n",
       " 'E:\\\\Temp\\\\barley_malt\\\\single_seeds\\\\test_set_instSegm_oneclass\\\\1102_10_048.json',\n",
       " 'E:\\\\Temp\\\\barley_malt\\\\single_seeds\\\\test_set_instSegm_oneclass\\\\1102_10_049.json',\n",
       " 'E:\\\\Temp\\\\barley_malt\\\\single_seeds\\\\test_set_instSegm_oneclass\\\\1102_10_052.json',\n",
       " 'E:\\\\Temp\\\\barley_malt\\\\single_seeds\\\\test_set_instSegm_oneclass\\\\1102_10_056.json',\n",
       " 'E:\\\\Temp\\\\barley_malt\\\\single_seeds\\\\test_set_instSegm_oneclass\\\\1102_10_057.json',\n",
       " 'E:\\\\Temp\\\\barley_malt\\\\single_seeds\\\\test_set_instSegm_oneclass\\\\1102_10_058.json',\n",
       " 'E:\\\\Temp\\\\barley_malt\\\\single_seeds\\\\test_set_instSegm_oneclass\\\\1102_10_060.json',\n",
       " 'E:\\\\Temp\\\\barley_malt\\\\single_seeds\\\\test_set_instSegm_oneclass\\\\1102_10_069.json',\n",
       " 'E:\\\\Temp\\\\barley_malt\\\\single_seeds\\\\test_set_instSegm_oneclass\\\\1102_10_072.json',\n",
       " 'E:\\\\Temp\\\\barley_malt\\\\single_seeds\\\\test_set_instSegm_oneclass\\\\1102_10_074.json',\n",
       " 'E:\\\\Temp\\\\barley_malt\\\\single_seeds\\\\test_set_instSegm_oneclass\\\\1102_10_078.json',\n",
       " 'E:\\\\Temp\\\\barley_malt\\\\single_seeds\\\\test_set_instSegm_oneclass\\\\1102_10_083.json',\n",
       " 'E:\\\\Temp\\\\barley_malt\\\\single_seeds\\\\test_set_instSegm_oneclass\\\\1102_10_084.json',\n",
       " 'E:\\\\Temp\\\\barley_malt\\\\single_seeds\\\\test_set_instSegm_oneclass\\\\1102_10_086.json',\n",
       " 'E:\\\\Temp\\\\barley_malt\\\\single_seeds\\\\test_set_instSegm_oneclass\\\\1102_10_088.json',\n",
       " 'E:\\\\Temp\\\\barley_malt\\\\single_seeds\\\\test_set_instSegm_oneclass\\\\1102_10_090.json',\n",
       " 'E:\\\\Temp\\\\barley_malt\\\\single_seeds\\\\test_set_instSegm_oneclass\\\\1102_10_094.json',\n",
       " 'E:\\\\Temp\\\\barley_malt\\\\single_seeds\\\\test_set_instSegm_oneclass\\\\1102_10_103.json',\n",
       " 'E:\\\\Temp\\\\barley_malt\\\\single_seeds\\\\test_set_instSegm_oneclass\\\\1102_10_105.json',\n",
       " 'E:\\\\Temp\\\\barley_malt\\\\single_seeds\\\\test_set_instSegm_oneclass\\\\1102_10_109.json',\n",
       " 'E:\\\\Temp\\\\barley_malt\\\\single_seeds\\\\test_set_instSegm_oneclass\\\\1102_10_111.json',\n",
       " 'E:\\\\Temp\\\\barley_malt\\\\single_seeds\\\\test_set_instSegm_oneclass\\\\1102_10_116.json',\n",
       " 'E:\\\\Temp\\\\barley_malt\\\\single_seeds\\\\test_set_instSegm_oneclass\\\\1102_10_117.json',\n",
       " 'E:\\\\Temp\\\\barley_malt\\\\single_seeds\\\\test_set_instSegm_oneclass\\\\1102_10_118.json',\n",
       " 'E:\\\\Temp\\\\barley_malt\\\\single_seeds\\\\test_set_instSegm_oneclass\\\\1102_10_122.json',\n",
       " 'E:\\\\Temp\\\\barley_malt\\\\single_seeds\\\\test_set_instSegm_oneclass\\\\1102_10_126.json',\n",
       " 'E:\\\\Temp\\\\barley_malt\\\\single_seeds\\\\test_set_instSegm_oneclass\\\\1102_10_127.json',\n",
       " 'E:\\\\Temp\\\\barley_malt\\\\single_seeds\\\\test_set_instSegm_oneclass\\\\1102_10_128.json',\n",
       " 'E:\\\\Temp\\\\barley_malt\\\\single_seeds\\\\test_set_instSegm_oneclass\\\\1102_10_129.json',\n",
       " 'E:\\\\Temp\\\\barley_malt\\\\single_seeds\\\\test_set_instSegm_oneclass\\\\1102_10_130.json',\n",
       " 'E:\\\\Temp\\\\barley_malt\\\\single_seeds\\\\test_set_instSegm_oneclass\\\\1102_10_134.json',\n",
       " 'E:\\\\Temp\\\\barley_malt\\\\single_seeds\\\\test_set_instSegm_oneclass\\\\1102_10_135.json',\n",
       " 'E:\\\\Temp\\\\barley_malt\\\\single_seeds\\\\test_set_instSegm_oneclass\\\\1102_10_143.json',\n",
       " 'E:\\\\Temp\\\\barley_malt\\\\single_seeds\\\\test_set_instSegm_oneclass\\\\1102_10_146.json',\n",
       " 'E:\\\\Temp\\\\barley_malt\\\\single_seeds\\\\test_set_instSegm_oneclass\\\\1102_10_150.json',\n",
       " 'E:\\\\Temp\\\\barley_malt\\\\single_seeds\\\\test_set_instSegm_oneclass\\\\1102_10_152.json',\n",
       " 'E:\\\\Temp\\\\barley_malt\\\\single_seeds\\\\test_set_instSegm_oneclass\\\\1102_10_153.json',\n",
       " 'E:\\\\Temp\\\\barley_malt\\\\single_seeds\\\\test_set_instSegm_oneclass\\\\1102_10_158.json',\n",
       " 'E:\\\\Temp\\\\barley_malt\\\\single_seeds\\\\test_set_instSegm_oneclass\\\\1102_10_160.json',\n",
       " 'E:\\\\Temp\\\\barley_malt\\\\single_seeds\\\\test_set_instSegm_oneclass\\\\1102_10_162.json',\n",
       " 'E:\\\\Temp\\\\barley_malt\\\\single_seeds\\\\test_set_instSegm_oneclass\\\\1102_10_163.json',\n",
       " 'E:\\\\Temp\\\\barley_malt\\\\single_seeds\\\\test_set_instSegm_oneclass\\\\1102_10_165.json',\n",
       " 'E:\\\\Temp\\\\barley_malt\\\\single_seeds\\\\test_set_instSegm_oneclass\\\\1102_10_166.json',\n",
       " 'E:\\\\Temp\\\\barley_malt\\\\single_seeds\\\\test_set_instSegm_oneclass\\\\1102_10_170.json',\n",
       " 'E:\\\\Temp\\\\barley_malt\\\\single_seeds\\\\test_set_instSegm_oneclass\\\\1102_10_171.json',\n",
       " 'E:\\\\Temp\\\\barley_malt\\\\single_seeds\\\\test_set_instSegm_oneclass\\\\1102_10_173.json',\n",
       " 'E:\\\\Temp\\\\barley_malt\\\\single_seeds\\\\test_set_instSegm_oneclass\\\\1102_10_177.json',\n",
       " 'E:\\\\Temp\\\\barley_malt\\\\single_seeds\\\\test_set_instSegm_oneclass\\\\1102_10_178.json',\n",
       " 'E:\\\\Temp\\\\barley_malt\\\\single_seeds\\\\test_set_instSegm_oneclass\\\\1102_10_180.json',\n",
       " 'E:\\\\Temp\\\\barley_malt\\\\single_seeds\\\\test_set_instSegm_oneclass\\\\1102_10_182.json',\n",
       " 'E:\\\\Temp\\\\barley_malt\\\\single_seeds\\\\test_set_instSegm_oneclass\\\\1102_10_184.json',\n",
       " 'E:\\\\Temp\\\\barley_malt\\\\single_seeds\\\\test_set_instSegm_oneclass\\\\1102_10_185.json',\n",
       " 'E:\\\\Temp\\\\barley_malt\\\\single_seeds\\\\test_set_instSegm_oneclass\\\\1102_10_186.json',\n",
       " 'E:\\\\Temp\\\\barley_malt\\\\single_seeds\\\\test_set_instSegm_oneclass\\\\1102_10_187.json',\n",
       " 'E:\\\\Temp\\\\barley_malt\\\\single_seeds\\\\test_set_instSegm_oneclass\\\\1102_10_190.json',\n",
       " 'E:\\\\Temp\\\\barley_malt\\\\single_seeds\\\\test_set_instSegm_oneclass\\\\1102_10_191.json',\n",
       " 'E:\\\\Temp\\\\barley_malt\\\\single_seeds\\\\test_set_instSegm_oneclass\\\\1102_10_192.json',\n",
       " 'E:\\\\Temp\\\\barley_malt\\\\single_seeds\\\\test_set_instSegm_oneclass\\\\1102_10_193.json',\n",
       " 'E:\\\\Temp\\\\barley_malt\\\\single_seeds\\\\test_set_instSegm_oneclass\\\\1102_11_000.json',\n",
       " 'E:\\\\Temp\\\\barley_malt\\\\single_seeds\\\\test_set_instSegm_oneclass\\\\1102_11_001.json',\n",
       " 'E:\\\\Temp\\\\barley_malt\\\\single_seeds\\\\test_set_instSegm_oneclass\\\\1102_11_007.json',\n",
       " 'E:\\\\Temp\\\\barley_malt\\\\single_seeds\\\\test_set_instSegm_oneclass\\\\1102_11_014.json',\n",
       " 'E:\\\\Temp\\\\barley_malt\\\\single_seeds\\\\test_set_instSegm_oneclass\\\\1102_11_015.json',\n",
       " 'E:\\\\Temp\\\\barley_malt\\\\single_seeds\\\\test_set_instSegm_oneclass\\\\1102_11_027.json',\n",
       " 'E:\\\\Temp\\\\barley_malt\\\\single_seeds\\\\test_set_instSegm_oneclass\\\\1102_11_029.json',\n",
       " 'E:\\\\Temp\\\\barley_malt\\\\single_seeds\\\\test_set_instSegm_oneclass\\\\1102_11_030.json',\n",
       " 'E:\\\\Temp\\\\barley_malt\\\\single_seeds\\\\test_set_instSegm_oneclass\\\\1102_11_032.json',\n",
       " 'E:\\\\Temp\\\\barley_malt\\\\single_seeds\\\\test_set_instSegm_oneclass\\\\1102_11_033.json',\n",
       " 'E:\\\\Temp\\\\barley_malt\\\\single_seeds\\\\test_set_instSegm_oneclass\\\\1102_11_034.json',\n",
       " 'E:\\\\Temp\\\\barley_malt\\\\single_seeds\\\\test_set_instSegm_oneclass\\\\1102_11_042.json',\n",
       " 'E:\\\\Temp\\\\barley_malt\\\\single_seeds\\\\test_set_instSegm_oneclass\\\\1102_11_043.json',\n",
       " 'E:\\\\Temp\\\\barley_malt\\\\single_seeds\\\\test_set_instSegm_oneclass\\\\1102_11_046.json',\n",
       " 'E:\\\\Temp\\\\barley_malt\\\\single_seeds\\\\test_set_instSegm_oneclass\\\\1102_11_058.json',\n",
       " 'E:\\\\Temp\\\\barley_malt\\\\single_seeds\\\\test_set_instSegm_oneclass\\\\1102_11_059.json',\n",
       " 'E:\\\\Temp\\\\barley_malt\\\\single_seeds\\\\test_set_instSegm_oneclass\\\\1102_11_060.json',\n",
       " 'E:\\\\Temp\\\\barley_malt\\\\single_seeds\\\\test_set_instSegm_oneclass\\\\1102_11_065.json',\n",
       " 'E:\\\\Temp\\\\barley_malt\\\\single_seeds\\\\test_set_instSegm_oneclass\\\\1102_11_073.json',\n",
       " 'E:\\\\Temp\\\\barley_malt\\\\single_seeds\\\\test_set_instSegm_oneclass\\\\1102_11_075.json',\n",
       " 'E:\\\\Temp\\\\barley_malt\\\\single_seeds\\\\test_set_instSegm_oneclass\\\\1102_11_082.json',\n",
       " 'E:\\\\Temp\\\\barley_malt\\\\single_seeds\\\\test_set_instSegm_oneclass\\\\1102_11_086.json',\n",
       " 'E:\\\\Temp\\\\barley_malt\\\\single_seeds\\\\test_set_instSegm_oneclass\\\\1102_11_087.json',\n",
       " 'E:\\\\Temp\\\\barley_malt\\\\single_seeds\\\\test_set_instSegm_oneclass\\\\1102_11_088.json',\n",
       " 'E:\\\\Temp\\\\barley_malt\\\\single_seeds\\\\test_set_instSegm_oneclass\\\\1102_11_090.json',\n",
       " 'E:\\\\Temp\\\\barley_malt\\\\single_seeds\\\\test_set_instSegm_oneclass\\\\1102_11_099.json',\n",
       " 'E:\\\\Temp\\\\barley_malt\\\\single_seeds\\\\test_set_instSegm_oneclass\\\\1102_11_101.json',\n",
       " 'E:\\\\Temp\\\\barley_malt\\\\single_seeds\\\\test_set_instSegm_oneclass\\\\1102_11_102.json',\n",
       " 'E:\\\\Temp\\\\barley_malt\\\\single_seeds\\\\test_set_instSegm_oneclass\\\\1102_11_103.json',\n",
       " 'E:\\\\Temp\\\\barley_malt\\\\single_seeds\\\\test_set_instSegm_oneclass\\\\1102_11_105.json',\n",
       " 'E:\\\\Temp\\\\barley_malt\\\\single_seeds\\\\test_set_instSegm_oneclass\\\\1102_11_108.json',\n",
       " 'E:\\\\Temp\\\\barley_malt\\\\single_seeds\\\\test_set_instSegm_oneclass\\\\1102_11_109.json',\n",
       " 'E:\\\\Temp\\\\barley_malt\\\\single_seeds\\\\test_set_instSegm_oneclass\\\\1102_11_114.json',\n",
       " 'E:\\\\Temp\\\\barley_malt\\\\single_seeds\\\\test_set_instSegm_oneclass\\\\1102_11_118.json',\n",
       " 'E:\\\\Temp\\\\barley_malt\\\\single_seeds\\\\test_set_instSegm_oneclass\\\\1102_11_119.json',\n",
       " 'E:\\\\Temp\\\\barley_malt\\\\single_seeds\\\\test_set_instSegm_oneclass\\\\1102_11_121.json',\n",
       " 'E:\\\\Temp\\\\barley_malt\\\\single_seeds\\\\test_set_instSegm_oneclass\\\\1102_11_122.json',\n",
       " 'E:\\\\Temp\\\\barley_malt\\\\single_seeds\\\\test_set_instSegm_oneclass\\\\1102_11_128.json',\n",
       " 'E:\\\\Temp\\\\barley_malt\\\\single_seeds\\\\test_set_instSegm_oneclass\\\\1102_11_129.json',\n",
       " 'E:\\\\Temp\\\\barley_malt\\\\single_seeds\\\\test_set_instSegm_oneclass\\\\1102_11_137.json',\n",
       " 'E:\\\\Temp\\\\barley_malt\\\\single_seeds\\\\test_set_instSegm_oneclass\\\\1102_11_140.json',\n",
       " 'E:\\\\Temp\\\\barley_malt\\\\single_seeds\\\\test_set_instSegm_oneclass\\\\1102_11_143.json',\n",
       " 'E:\\\\Temp\\\\barley_malt\\\\single_seeds\\\\test_set_instSegm_oneclass\\\\1102_11_149.json',\n",
       " 'E:\\\\Temp\\\\barley_malt\\\\single_seeds\\\\test_set_instSegm_oneclass\\\\1102_11_153.json',\n",
       " 'E:\\\\Temp\\\\barley_malt\\\\single_seeds\\\\test_set_instSegm_oneclass\\\\1102_11_154.json',\n",
       " 'E:\\\\Temp\\\\barley_malt\\\\single_seeds\\\\test_set_instSegm_oneclass\\\\1102_11_155.json',\n",
       " 'E:\\\\Temp\\\\barley_malt\\\\single_seeds\\\\test_set_instSegm_oneclass\\\\1102_11_158.json',\n",
       " 'E:\\\\Temp\\\\barley_malt\\\\single_seeds\\\\test_set_instSegm_oneclass\\\\1102_11_159.json',\n",
       " 'E:\\\\Temp\\\\barley_malt\\\\single_seeds\\\\test_set_instSegm_oneclass\\\\1102_11_163.json',\n",
       " 'E:\\\\Temp\\\\barley_malt\\\\single_seeds\\\\test_set_instSegm_oneclass\\\\1102_11_164.json',\n",
       " 'E:\\\\Temp\\\\barley_malt\\\\single_seeds\\\\test_set_instSegm_oneclass\\\\1102_11_166.json',\n",
       " 'E:\\\\Temp\\\\barley_malt\\\\single_seeds\\\\test_set_instSegm_oneclass\\\\1102_11_171.json',\n",
       " 'E:\\\\Temp\\\\barley_malt\\\\single_seeds\\\\test_set_instSegm_oneclass\\\\1102_11_172.json',\n",
       " 'E:\\\\Temp\\\\barley_malt\\\\single_seeds\\\\test_set_instSegm_oneclass\\\\1102_11_187.json',\n",
       " 'E:\\\\Temp\\\\barley_malt\\\\single_seeds\\\\test_set_instSegm_oneclass\\\\1102_20_004.json',\n",
       " 'E:\\\\Temp\\\\barley_malt\\\\single_seeds\\\\test_set_instSegm_oneclass\\\\1102_20_006.json',\n",
       " 'E:\\\\Temp\\\\barley_malt\\\\single_seeds\\\\test_set_instSegm_oneclass\\\\1102_20_007.json',\n",
       " 'E:\\\\Temp\\\\barley_malt\\\\single_seeds\\\\test_set_instSegm_oneclass\\\\1102_20_035.json',\n",
       " 'E:\\\\Temp\\\\barley_malt\\\\single_seeds\\\\test_set_instSegm_oneclass\\\\1102_20_036.json',\n",
       " 'E:\\\\Temp\\\\barley_malt\\\\single_seeds\\\\test_set_instSegm_oneclass\\\\1102_20_037.json',\n",
       " 'E:\\\\Temp\\\\barley_malt\\\\single_seeds\\\\test_set_instSegm_oneclass\\\\1102_20_038.json',\n",
       " 'E:\\\\Temp\\\\barley_malt\\\\single_seeds\\\\test_set_instSegm_oneclass\\\\1102_20_039.json',\n",
       " 'E:\\\\Temp\\\\barley_malt\\\\single_seeds\\\\test_set_instSegm_oneclass\\\\1102_20_040.json',\n",
       " 'E:\\\\Temp\\\\barley_malt\\\\single_seeds\\\\test_set_instSegm_oneclass\\\\1102_20_060.json',\n",
       " 'E:\\\\Temp\\\\barley_malt\\\\single_seeds\\\\test_set_instSegm_oneclass\\\\1102_20_076.json',\n",
       " 'E:\\\\Temp\\\\barley_malt\\\\single_seeds\\\\test_set_instSegm_oneclass\\\\1102_20_080.json',\n",
       " 'E:\\\\Temp\\\\barley_malt\\\\single_seeds\\\\test_set_instSegm_oneclass\\\\1102_20_083.json',\n",
       " 'E:\\\\Temp\\\\barley_malt\\\\single_seeds\\\\test_set_instSegm_oneclass\\\\1102_20_087.json',\n",
       " 'E:\\\\Temp\\\\barley_malt\\\\single_seeds\\\\test_set_instSegm_oneclass\\\\1102_20_088.json',\n",
       " 'E:\\\\Temp\\\\barley_malt\\\\single_seeds\\\\test_set_instSegm_oneclass\\\\1102_20_090.json',\n",
       " 'E:\\\\Temp\\\\barley_malt\\\\single_seeds\\\\test_set_instSegm_oneclass\\\\1102_20_091.json',\n",
       " 'E:\\\\Temp\\\\barley_malt\\\\single_seeds\\\\test_set_instSegm_oneclass\\\\1102_20_092.json',\n",
       " 'E:\\\\Temp\\\\barley_malt\\\\single_seeds\\\\test_set_instSegm_oneclass\\\\1102_20_095.json',\n",
       " 'E:\\\\Temp\\\\barley_malt\\\\single_seeds\\\\test_set_instSegm_oneclass\\\\1102_20_096.json',\n",
       " 'E:\\\\Temp\\\\barley_malt\\\\single_seeds\\\\test_set_instSegm_oneclass\\\\1102_20_100.json',\n",
       " 'E:\\\\Temp\\\\barley_malt\\\\single_seeds\\\\test_set_instSegm_oneclass\\\\1102_20_102.json',\n",
       " 'E:\\\\Temp\\\\barley_malt\\\\single_seeds\\\\test_set_instSegm_oneclass\\\\1102_20_107.json',\n",
       " 'E:\\\\Temp\\\\barley_malt\\\\single_seeds\\\\test_set_instSegm_oneclass\\\\1102_20_113.json',\n",
       " 'E:\\\\Temp\\\\barley_malt\\\\single_seeds\\\\test_set_instSegm_oneclass\\\\1102_20_115.json',\n",
       " 'E:\\\\Temp\\\\barley_malt\\\\single_seeds\\\\test_set_instSegm_oneclass\\\\1102_20_116.json',\n",
       " 'E:\\\\Temp\\\\barley_malt\\\\single_seeds\\\\test_set_instSegm_oneclass\\\\1102_20_117.json',\n",
       " 'E:\\\\Temp\\\\barley_malt\\\\single_seeds\\\\test_set_instSegm_oneclass\\\\1102_20_118.json',\n",
       " 'E:\\\\Temp\\\\barley_malt\\\\single_seeds\\\\test_set_instSegm_oneclass\\\\1102_20_120.json',\n",
       " 'E:\\\\Temp\\\\barley_malt\\\\single_seeds\\\\test_set_instSegm_oneclass\\\\1102_20_122.json',\n",
       " 'E:\\\\Temp\\\\barley_malt\\\\single_seeds\\\\test_set_instSegm_oneclass\\\\1102_20_124.json',\n",
       " 'E:\\\\Temp\\\\barley_malt\\\\single_seeds\\\\test_set_instSegm_oneclass\\\\1102_20_125.json',\n",
       " 'E:\\\\Temp\\\\barley_malt\\\\single_seeds\\\\test_set_instSegm_oneclass\\\\1102_20_127.json',\n",
       " 'E:\\\\Temp\\\\barley_malt\\\\single_seeds\\\\test_set_instSegm_oneclass\\\\1102_20_128.json',\n",
       " 'E:\\\\Temp\\\\barley_malt\\\\single_seeds\\\\test_set_instSegm_oneclass\\\\1102_20_129.json',\n",
       " 'E:\\\\Temp\\\\barley_malt\\\\single_seeds\\\\test_set_instSegm_oneclass\\\\1102_3_010.json',\n",
       " 'E:\\\\Temp\\\\barley_malt\\\\single_seeds\\\\test_set_instSegm_oneclass\\\\1102_3_011.json',\n",
       " 'E:\\\\Temp\\\\barley_malt\\\\single_seeds\\\\test_set_instSegm_oneclass\\\\1102_3_012.json',\n",
       " 'E:\\\\Temp\\\\barley_malt\\\\single_seeds\\\\test_set_instSegm_oneclass\\\\1102_3_013.json',\n",
       " 'E:\\\\Temp\\\\barley_malt\\\\single_seeds\\\\test_set_instSegm_oneclass\\\\1102_3_014.json',\n",
       " 'E:\\\\Temp\\\\barley_malt\\\\single_seeds\\\\test_set_instSegm_oneclass\\\\1102_3_015.json',\n",
       " 'E:\\\\Temp\\\\barley_malt\\\\single_seeds\\\\test_set_instSegm_oneclass\\\\1102_3_016.json',\n",
       " 'E:\\\\Temp\\\\barley_malt\\\\single_seeds\\\\test_set_instSegm_oneclass\\\\1102_3_017.json',\n",
       " 'E:\\\\Temp\\\\barley_malt\\\\single_seeds\\\\test_set_instSegm_oneclass\\\\1102_3_018.json',\n",
       " 'E:\\\\Temp\\\\barley_malt\\\\single_seeds\\\\test_set_instSegm_oneclass\\\\1102_3_019.json',\n",
       " 'E:\\\\Temp\\\\barley_malt\\\\single_seeds\\\\test_set_instSegm_oneclass\\\\1102_3_020.json',\n",
       " 'E:\\\\Temp\\\\barley_malt\\\\single_seeds\\\\test_set_instSegm_oneclass\\\\1102_3_021.json',\n",
       " 'E:\\\\Temp\\\\barley_malt\\\\single_seeds\\\\test_set_instSegm_oneclass\\\\1102_3_023.json',\n",
       " 'E:\\\\Temp\\\\barley_malt\\\\single_seeds\\\\test_set_instSegm_oneclass\\\\1102_3_025.json',\n",
       " 'E:\\\\Temp\\\\barley_malt\\\\single_seeds\\\\test_set_instSegm_oneclass\\\\1102_3_026.json',\n",
       " 'E:\\\\Temp\\\\barley_malt\\\\single_seeds\\\\test_set_instSegm_oneclass\\\\1102_3_027.json',\n",
       " 'E:\\\\Temp\\\\barley_malt\\\\single_seeds\\\\test_set_instSegm_oneclass\\\\1102_3_028.json',\n",
       " 'E:\\\\Temp\\\\barley_malt\\\\single_seeds\\\\test_set_instSegm_oneclass\\\\1102_3_030.json',\n",
       " 'E:\\\\Temp\\\\barley_malt\\\\single_seeds\\\\test_set_instSegm_oneclass\\\\1102_3_031.json',\n",
       " 'E:\\\\Temp\\\\barley_malt\\\\single_seeds\\\\test_set_instSegm_oneclass\\\\1102_3_044.json',\n",
       " 'E:\\\\Temp\\\\barley_malt\\\\single_seeds\\\\test_set_instSegm_oneclass\\\\1102_3_045.json',\n",
       " 'E:\\\\Temp\\\\barley_malt\\\\single_seeds\\\\test_set_instSegm_oneclass\\\\1102_3_048.json',\n",
       " 'E:\\\\Temp\\\\barley_malt\\\\single_seeds\\\\test_set_instSegm_oneclass\\\\1102_3_057.json',\n",
       " 'E:\\\\Temp\\\\barley_malt\\\\single_seeds\\\\test_set_instSegm_oneclass\\\\1102_3_058.json',\n",
       " 'E:\\\\Temp\\\\barley_malt\\\\single_seeds\\\\test_set_instSegm_oneclass\\\\1102_3_059.json',\n",
       " 'E:\\\\Temp\\\\barley_malt\\\\single_seeds\\\\test_set_instSegm_oneclass\\\\1102_3_069.json',\n",
       " 'E:\\\\Temp\\\\barley_malt\\\\single_seeds\\\\test_set_instSegm_oneclass\\\\1102_3_070.json',\n",
       " 'E:\\\\Temp\\\\barley_malt\\\\single_seeds\\\\test_set_instSegm_oneclass\\\\1102_3_072.json',\n",
       " 'E:\\\\Temp\\\\barley_malt\\\\single_seeds\\\\test_set_instSegm_oneclass\\\\1102_3_076.json',\n",
       " 'E:\\\\Temp\\\\barley_malt\\\\single_seeds\\\\test_set_instSegm_oneclass\\\\1102_3_078.json',\n",
       " 'E:\\\\Temp\\\\barley_malt\\\\single_seeds\\\\test_set_instSegm_oneclass\\\\1102_3_079.json',\n",
       " 'E:\\\\Temp\\\\barley_malt\\\\single_seeds\\\\test_set_instSegm_oneclass\\\\1102_3_081.json',\n",
       " 'E:\\\\Temp\\\\barley_malt\\\\single_seeds\\\\test_set_instSegm_oneclass\\\\1102_3_084.json',\n",
       " 'E:\\\\Temp\\\\barley_malt\\\\single_seeds\\\\test_set_instSegm_oneclass\\\\1102_3_085.json',\n",
       " 'E:\\\\Temp\\\\barley_malt\\\\single_seeds\\\\test_set_instSegm_oneclass\\\\1102_3_086.json',\n",
       " 'E:\\\\Temp\\\\barley_malt\\\\single_seeds\\\\test_set_instSegm_oneclass\\\\1102_3_087.json',\n",
       " 'E:\\\\Temp\\\\barley_malt\\\\single_seeds\\\\test_set_instSegm_oneclass\\\\1102_3_090.json',\n",
       " 'E:\\\\Temp\\\\barley_malt\\\\single_seeds\\\\test_set_instSegm_oneclass\\\\1102_3_091.json',\n",
       " 'E:\\\\Temp\\\\barley_malt\\\\single_seeds\\\\test_set_instSegm_oneclass\\\\1102_3_100.json',\n",
       " 'E:\\\\Temp\\\\barley_malt\\\\single_seeds\\\\test_set_instSegm_oneclass\\\\1102_3_103.json',\n",
       " 'E:\\\\Temp\\\\barley_malt\\\\single_seeds\\\\test_set_instSegm_oneclass\\\\1102_3_106.json',\n",
       " 'E:\\\\Temp\\\\barley_malt\\\\single_seeds\\\\test_set_instSegm_oneclass\\\\1110_3333_000.json',\n",
       " 'E:\\\\Temp\\\\barley_malt\\\\single_seeds\\\\test_set_instSegm_oneclass\\\\1110_3333_001.json',\n",
       " 'E:\\\\Temp\\\\barley_malt\\\\single_seeds\\\\test_set_instSegm_oneclass\\\\1110_3333_007.json',\n",
       " 'E:\\\\Temp\\\\barley_malt\\\\single_seeds\\\\test_set_instSegm_oneclass\\\\1110_3333_008.json',\n",
       " 'E:\\\\Temp\\\\barley_malt\\\\single_seeds\\\\test_set_instSegm_oneclass\\\\1110_3333_009.json',\n",
       " 'E:\\\\Temp\\\\barley_malt\\\\single_seeds\\\\test_set_instSegm_oneclass\\\\1110_3333_010.json',\n",
       " 'E:\\\\Temp\\\\barley_malt\\\\single_seeds\\\\test_set_instSegm_oneclass\\\\1110_3333_011.json',\n",
       " 'E:\\\\Temp\\\\barley_malt\\\\single_seeds\\\\test_set_instSegm_oneclass\\\\1110_3333_015.json',\n",
       " 'E:\\\\Temp\\\\barley_malt\\\\single_seeds\\\\test_set_instSegm_oneclass\\\\1110_3333_023.json',\n",
       " 'E:\\\\Temp\\\\barley_malt\\\\single_seeds\\\\test_set_instSegm_oneclass\\\\1110_3333_027.json',\n",
       " 'E:\\\\Temp\\\\barley_malt\\\\single_seeds\\\\test_set_instSegm_oneclass\\\\1110_3333_028.json',\n",
       " 'E:\\\\Temp\\\\barley_malt\\\\single_seeds\\\\test_set_instSegm_oneclass\\\\1110_3333_033.json',\n",
       " 'E:\\\\Temp\\\\barley_malt\\\\single_seeds\\\\test_set_instSegm_oneclass\\\\1110_3333_034.json',\n",
       " 'E:\\\\Temp\\\\barley_malt\\\\single_seeds\\\\test_set_instSegm_oneclass\\\\1110_3333_036.json',\n",
       " 'E:\\\\Temp\\\\barley_malt\\\\single_seeds\\\\test_set_instSegm_oneclass\\\\1110_3333_038.json',\n",
       " 'E:\\\\Temp\\\\barley_malt\\\\single_seeds\\\\test_set_instSegm_oneclass\\\\1110_3333_040.json',\n",
       " 'E:\\\\Temp\\\\barley_malt\\\\single_seeds\\\\test_set_instSegm_oneclass\\\\1110_3333_043.json',\n",
       " 'E:\\\\Temp\\\\barley_malt\\\\single_seeds\\\\test_set_instSegm_oneclass\\\\1110_3333_047.json',\n",
       " 'E:\\\\Temp\\\\barley_malt\\\\single_seeds\\\\test_set_instSegm_oneclass\\\\1110_3333_050.json',\n",
       " 'E:\\\\Temp\\\\barley_malt\\\\single_seeds\\\\test_set_instSegm_oneclass\\\\1110_3333_052.json',\n",
       " 'E:\\\\Temp\\\\barley_malt\\\\single_seeds\\\\test_set_instSegm_oneclass\\\\1110_3333_055.json',\n",
       " 'E:\\\\Temp\\\\barley_malt\\\\single_seeds\\\\test_set_instSegm_oneclass\\\\1110_3333_057.json',\n",
       " 'E:\\\\Temp\\\\barley_malt\\\\single_seeds\\\\test_set_instSegm_oneclass\\\\1110_3333_059.json',\n",
       " 'E:\\\\Temp\\\\barley_malt\\\\single_seeds\\\\test_set_instSegm_oneclass\\\\1110_3333_060.json',\n",
       " 'E:\\\\Temp\\\\barley_malt\\\\single_seeds\\\\test_set_instSegm_oneclass\\\\1110_3333_061.json',\n",
       " 'E:\\\\Temp\\\\barley_malt\\\\single_seeds\\\\test_set_instSegm_oneclass\\\\1110_3333_062.json',\n",
       " 'E:\\\\Temp\\\\barley_malt\\\\single_seeds\\\\test_set_instSegm_oneclass\\\\1110_3333_063.json',\n",
       " 'E:\\\\Temp\\\\barley_malt\\\\single_seeds\\\\test_set_instSegm_oneclass\\\\1110_3333_064.json',\n",
       " 'E:\\\\Temp\\\\barley_malt\\\\single_seeds\\\\test_set_instSegm_oneclass\\\\1110_3333_068.json',\n",
       " 'E:\\\\Temp\\\\barley_malt\\\\single_seeds\\\\test_set_instSegm_oneclass\\\\1110_3333_069.json',\n",
       " 'E:\\\\Temp\\\\barley_malt\\\\single_seeds\\\\test_set_instSegm_oneclass\\\\1110_3333_072.json',\n",
       " 'E:\\\\Temp\\\\barley_malt\\\\single_seeds\\\\test_set_instSegm_oneclass\\\\1110_3333_075.json',\n",
       " 'E:\\\\Temp\\\\barley_malt\\\\single_seeds\\\\test_set_instSegm_oneclass\\\\1110_3333_077.json',\n",
       " 'E:\\\\Temp\\\\barley_malt\\\\single_seeds\\\\test_set_instSegm_oneclass\\\\1110_3333_078.json',\n",
       " 'E:\\\\Temp\\\\barley_malt\\\\single_seeds\\\\test_set_instSegm_oneclass\\\\1110_3333_086.json',\n",
       " 'E:\\\\Temp\\\\barley_malt\\\\single_seeds\\\\test_set_instSegm_oneclass\\\\1110_3333_090.json',\n",
       " 'E:\\\\Temp\\\\barley_malt\\\\single_seeds\\\\test_set_instSegm_oneclass\\\\1110_3333_093.json',\n",
       " 'E:\\\\Temp\\\\barley_malt\\\\single_seeds\\\\test_set_instSegm_oneclass\\\\1110_3333_094.json',\n",
       " 'E:\\\\Temp\\\\barley_malt\\\\single_seeds\\\\test_set_instSegm_oneclass\\\\1110_3333_099.json',\n",
       " 'E:\\\\Temp\\\\barley_malt\\\\single_seeds\\\\test_set_instSegm_oneclass\\\\1110_3333_100.json',\n",
       " 'E:\\\\Temp\\\\barley_malt\\\\single_seeds\\\\test_set_instSegm_oneclass\\\\1110_3333_101.json',\n",
       " 'E:\\\\Temp\\\\barley_malt\\\\single_seeds\\\\test_set_instSegm_oneclass\\\\1110_3333_103.json',\n",
       " 'E:\\\\Temp\\\\barley_malt\\\\single_seeds\\\\test_set_instSegm_oneclass\\\\1110_3333_107.json',\n",
       " 'E:\\\\Temp\\\\barley_malt\\\\single_seeds\\\\test_set_instSegm_oneclass\\\\1110_3333_109.json',\n",
       " 'E:\\\\Temp\\\\barley_malt\\\\single_seeds\\\\test_set_instSegm_oneclass\\\\1110_3333_110.json',\n",
       " 'E:\\\\Temp\\\\barley_malt\\\\single_seeds\\\\test_set_instSegm_oneclass\\\\1110_3333_111.json',\n",
       " 'E:\\\\Temp\\\\barley_malt\\\\single_seeds\\\\test_set_instSegm_oneclass\\\\1110_3333_112.json',\n",
       " 'E:\\\\Temp\\\\barley_malt\\\\single_seeds\\\\test_set_instSegm_oneclass\\\\1110_3333_113.json',\n",
       " 'E:\\\\Temp\\\\barley_malt\\\\single_seeds\\\\test_set_instSegm_oneclass\\\\1110_3333_118.json',\n",
       " 'E:\\\\Temp\\\\barley_malt\\\\single_seeds\\\\test_set_instSegm_oneclass\\\\1110_3333_119.json',\n",
       " 'E:\\\\Temp\\\\barley_malt\\\\single_seeds\\\\test_set_instSegm_oneclass\\\\1110_3333_120.json',\n",
       " 'E:\\\\Temp\\\\barley_malt\\\\single_seeds\\\\test_set_instSegm_oneclass\\\\1110_3333_121.json',\n",
       " 'E:\\\\Temp\\\\barley_malt\\\\single_seeds\\\\test_set_instSegm_oneclass\\\\1110_3333_122.json',\n",
       " 'E:\\\\Temp\\\\barley_malt\\\\single_seeds\\\\test_set_instSegm_oneclass\\\\1110_3333_123.json',\n",
       " 'E:\\\\Temp\\\\barley_malt\\\\single_seeds\\\\test_set_instSegm_oneclass\\\\1110_3333_124.json',\n",
       " 'E:\\\\Temp\\\\barley_malt\\\\single_seeds\\\\test_set_instSegm_oneclass\\\\1110_3333_131.json',\n",
       " 'E:\\\\Temp\\\\barley_malt\\\\single_seeds\\\\test_set_instSegm_oneclass\\\\1110_3333_133.json',\n",
       " 'E:\\\\Temp\\\\barley_malt\\\\single_seeds\\\\test_set_instSegm_oneclass\\\\1110_3333_135.json',\n",
       " 'E:\\\\Temp\\\\barley_malt\\\\single_seeds\\\\test_set_instSegm_oneclass\\\\1110_3333_138.json',\n",
       " 'E:\\\\Temp\\\\barley_malt\\\\single_seeds\\\\test_set_instSegm_oneclass\\\\1110_3333_162.json',\n",
       " 'E:\\\\Temp\\\\barley_malt\\\\single_seeds\\\\test_set_instSegm_oneclass\\\\1110_ooo_000.json',\n",
       " 'E:\\\\Temp\\\\barley_malt\\\\single_seeds\\\\test_set_instSegm_oneclass\\\\1110_ooo_001.json',\n",
       " 'E:\\\\Temp\\\\barley_malt\\\\single_seeds\\\\test_set_instSegm_oneclass\\\\1110_ooo_002.json',\n",
       " 'E:\\\\Temp\\\\barley_malt\\\\single_seeds\\\\test_set_instSegm_oneclass\\\\1110_ooo_005.json',\n",
       " 'E:\\\\Temp\\\\barley_malt\\\\single_seeds\\\\test_set_instSegm_oneclass\\\\1110_ooo_006.json',\n",
       " 'E:\\\\Temp\\\\barley_malt\\\\single_seeds\\\\test_set_instSegm_oneclass\\\\1110_ooo_008.json',\n",
       " 'E:\\\\Temp\\\\barley_malt\\\\single_seeds\\\\test_set_instSegm_oneclass\\\\1110_ooo_009.json',\n",
       " 'E:\\\\Temp\\\\barley_malt\\\\single_seeds\\\\test_set_instSegm_oneclass\\\\1110_ooo_010.json',\n",
       " 'E:\\\\Temp\\\\barley_malt\\\\single_seeds\\\\test_set_instSegm_oneclass\\\\1110_ooo_011.json',\n",
       " 'E:\\\\Temp\\\\barley_malt\\\\single_seeds\\\\test_set_instSegm_oneclass\\\\1110_ooo_012.json',\n",
       " 'E:\\\\Temp\\\\barley_malt\\\\single_seeds\\\\test_set_instSegm_oneclass\\\\1110_ooo_014.json',\n",
       " 'E:\\\\Temp\\\\barley_malt\\\\single_seeds\\\\test_set_instSegm_oneclass\\\\1110_ooo_016.json',\n",
       " 'E:\\\\Temp\\\\barley_malt\\\\single_seeds\\\\test_set_instSegm_oneclass\\\\1110_ooo_018.json',\n",
       " 'E:\\\\Temp\\\\barley_malt\\\\single_seeds\\\\test_set_instSegm_oneclass\\\\1110_ooo_019.json',\n",
       " 'E:\\\\Temp\\\\barley_malt\\\\single_seeds\\\\test_set_instSegm_oneclass\\\\1110_ooo_020.json',\n",
       " 'E:\\\\Temp\\\\barley_malt\\\\single_seeds\\\\test_set_instSegm_oneclass\\\\1110_ooo_021.json',\n",
       " 'E:\\\\Temp\\\\barley_malt\\\\single_seeds\\\\test_set_instSegm_oneclass\\\\1110_ooo_022.json',\n",
       " 'E:\\\\Temp\\\\barley_malt\\\\single_seeds\\\\test_set_instSegm_oneclass\\\\1110_ooo_023.json',\n",
       " 'E:\\\\Temp\\\\barley_malt\\\\single_seeds\\\\test_set_instSegm_oneclass\\\\1110_ooo_024.json',\n",
       " 'E:\\\\Temp\\\\barley_malt\\\\single_seeds\\\\test_set_instSegm_oneclass\\\\1110_ooo_025.json',\n",
       " 'E:\\\\Temp\\\\barley_malt\\\\single_seeds\\\\test_set_instSegm_oneclass\\\\1110_ooo_033.json',\n",
       " 'E:\\\\Temp\\\\barley_malt\\\\single_seeds\\\\test_set_instSegm_oneclass\\\\1110_ooo_034.json',\n",
       " 'E:\\\\Temp\\\\barley_malt\\\\single_seeds\\\\test_set_instSegm_oneclass\\\\1110_ooo_036.json',\n",
       " 'E:\\\\Temp\\\\barley_malt\\\\single_seeds\\\\test_set_instSegm_oneclass\\\\1110_ooo_037.json',\n",
       " 'E:\\\\Temp\\\\barley_malt\\\\single_seeds\\\\test_set_instSegm_oneclass\\\\1110_ooo_038.json',\n",
       " 'E:\\\\Temp\\\\barley_malt\\\\single_seeds\\\\test_set_instSegm_oneclass\\\\1110_ooo_039.json',\n",
       " 'E:\\\\Temp\\\\barley_malt\\\\single_seeds\\\\test_set_instSegm_oneclass\\\\1110_ooo_040.json',\n",
       " 'E:\\\\Temp\\\\barley_malt\\\\single_seeds\\\\test_set_instSegm_oneclass\\\\1110_ooo_041.json',\n",
       " 'E:\\\\Temp\\\\barley_malt\\\\single_seeds\\\\test_set_instSegm_oneclass\\\\1110_ooo_043.json',\n",
       " 'E:\\\\Temp\\\\barley_malt\\\\single_seeds\\\\test_set_instSegm_oneclass\\\\1110_ooo_044.json',\n",
       " 'E:\\\\Temp\\\\barley_malt\\\\single_seeds\\\\test_set_instSegm_oneclass\\\\1110_oo_000.json',\n",
       " 'E:\\\\Temp\\\\barley_malt\\\\single_seeds\\\\test_set_instSegm_oneclass\\\\1110_oo_002.json',\n",
       " 'E:\\\\Temp\\\\barley_malt\\\\single_seeds\\\\test_set_instSegm_oneclass\\\\1110_oo_003.json',\n",
       " 'E:\\\\Temp\\\\barley_malt\\\\single_seeds\\\\test_set_instSegm_oneclass\\\\1110_oo_005.json',\n",
       " 'E:\\\\Temp\\\\barley_malt\\\\single_seeds\\\\test_set_instSegm_oneclass\\\\1110_oo_006.json',\n",
       " 'E:\\\\Temp\\\\barley_malt\\\\single_seeds\\\\test_set_instSegm_oneclass\\\\1110_oo_009.json',\n",
       " 'E:\\\\Temp\\\\barley_malt\\\\single_seeds\\\\test_set_instSegm_oneclass\\\\1110_oo_010.json',\n",
       " 'E:\\\\Temp\\\\barley_malt\\\\single_seeds\\\\test_set_instSegm_oneclass\\\\1110_oo_014.json',\n",
       " 'E:\\\\Temp\\\\barley_malt\\\\single_seeds\\\\test_set_instSegm_oneclass\\\\1110_oo_015.json',\n",
       " 'E:\\\\Temp\\\\barley_malt\\\\single_seeds\\\\test_set_instSegm_oneclass\\\\1110_oo_016.json',\n",
       " 'E:\\\\Temp\\\\barley_malt\\\\single_seeds\\\\test_set_instSegm_oneclass\\\\1110_oo_017.json',\n",
       " 'E:\\\\Temp\\\\barley_malt\\\\single_seeds\\\\test_set_instSegm_oneclass\\\\1110_oo_018.json',\n",
       " 'E:\\\\Temp\\\\barley_malt\\\\single_seeds\\\\test_set_instSegm_oneclass\\\\1110_oo_020.json',\n",
       " 'E:\\\\Temp\\\\barley_malt\\\\single_seeds\\\\test_set_instSegm_oneclass\\\\1110_oo_021.json',\n",
       " 'E:\\\\Temp\\\\barley_malt\\\\single_seeds\\\\test_set_instSegm_oneclass\\\\1110_oo_027.json',\n",
       " 'E:\\\\Temp\\\\barley_malt\\\\single_seeds\\\\test_set_instSegm_oneclass\\\\1110_oo_029.json',\n",
       " 'E:\\\\Temp\\\\barley_malt\\\\single_seeds\\\\test_set_instSegm_oneclass\\\\1110_oo_031.json',\n",
       " 'E:\\\\Temp\\\\barley_malt\\\\single_seeds\\\\test_set_instSegm_oneclass\\\\1110_oo_034.json',\n",
       " 'E:\\\\Temp\\\\barley_malt\\\\single_seeds\\\\test_set_instSegm_oneclass\\\\1110_oo_035.json',\n",
       " 'E:\\\\Temp\\\\barley_malt\\\\single_seeds\\\\test_set_instSegm_oneclass\\\\dataset.json']"
      ]
     },
     "execution_count": 14,
     "metadata": {},
     "output_type": "execute_result"
    }
   ],
   "source": [
    "test_jsons"
   ]
  },
  {
   "cell_type": "code",
   "execution_count": 13,
   "metadata": {},
   "outputs": [
    {
     "ename": "KeyError",
     "evalue": "'shapes'",
     "output_type": "error",
     "traceback": [
      "\u001b[1;31m---------------------------------------------------------------------------\u001b[0m",
      "\u001b[1;31mKeyError\u001b[0m                                  Traceback (most recent call last)",
      "\u001b[1;32m~\\AppData\\Local\\Temp\\ipykernel_25116\\2406824612.py\u001b[0m in \u001b[0;36m<module>\u001b[1;34m\u001b[0m\n\u001b[1;32m----> 1\u001b[1;33m \u001b[0mlabelme2coco\u001b[0m\u001b[1;33m(\u001b[0m\u001b[0mtest_jsons\u001b[0m\u001b[1;33m,\u001b[0m\u001b[1;34m'./barley_malt/single_seeds/seeds_malt_test.json'\u001b[0m\u001b[1;33m,\u001b[0m \u001b[0mseeds_malt_classes\u001b[0m\u001b[1;33m)\u001b[0m\u001b[1;33m\u001b[0m\u001b[1;33m\u001b[0m\u001b[0m\n\u001b[0m",
      "\u001b[1;32m~\\AppData\\Local\\Temp\\ipykernel_25116\\2443311208.py\u001b[0m in \u001b[0;36m__init__\u001b[1;34m(self, labelme_json, save_json_path, classes)\u001b[0m\n\u001b[0;32m     17\u001b[0m         \u001b[1;31m#self.width=6000\u001b[0m\u001b[1;33m\u001b[0m\u001b[1;33m\u001b[0m\u001b[1;33m\u001b[0m\u001b[0m\n\u001b[0;32m     18\u001b[0m \u001b[1;33m\u001b[0m\u001b[0m\n\u001b[1;32m---> 19\u001b[1;33m         \u001b[0mself\u001b[0m\u001b[1;33m.\u001b[0m\u001b[0msave_json\u001b[0m\u001b[1;33m(\u001b[0m\u001b[1;33m)\u001b[0m\u001b[1;33m\u001b[0m\u001b[1;33m\u001b[0m\u001b[0m\n\u001b[0m\u001b[0;32m     20\u001b[0m \u001b[1;33m\u001b[0m\u001b[0m\n\u001b[0;32m     21\u001b[0m     \u001b[1;32mdef\u001b[0m \u001b[0mdata_transfer\u001b[0m\u001b[1;33m(\u001b[0m\u001b[0mself\u001b[0m\u001b[1;33m)\u001b[0m\u001b[1;33m:\u001b[0m\u001b[1;33m\u001b[0m\u001b[1;33m\u001b[0m\u001b[0m\n",
      "\u001b[1;32m~\\AppData\\Local\\Temp\\ipykernel_25116\\2443311208.py\u001b[0m in \u001b[0;36msave_json\u001b[1;34m(self)\u001b[0m\n\u001b[0;32m    173\u001b[0m \u001b[1;33m\u001b[0m\u001b[0m\n\u001b[0;32m    174\u001b[0m     \u001b[1;32mdef\u001b[0m \u001b[0msave_json\u001b[0m\u001b[1;33m(\u001b[0m\u001b[0mself\u001b[0m\u001b[1;33m)\u001b[0m\u001b[1;33m:\u001b[0m\u001b[1;33m\u001b[0m\u001b[1;33m\u001b[0m\u001b[0m\n\u001b[1;32m--> 175\u001b[1;33m         \u001b[0mself\u001b[0m\u001b[1;33m.\u001b[0m\u001b[0mdata_transfer\u001b[0m\u001b[1;33m(\u001b[0m\u001b[1;33m)\u001b[0m\u001b[1;33m\u001b[0m\u001b[1;33m\u001b[0m\u001b[0m\n\u001b[0m\u001b[0;32m    176\u001b[0m         \u001b[0mself\u001b[0m\u001b[1;33m.\u001b[0m\u001b[0mdata_coco\u001b[0m \u001b[1;33m=\u001b[0m \u001b[0mself\u001b[0m\u001b[1;33m.\u001b[0m\u001b[0mdata2coco\u001b[0m\u001b[1;33m(\u001b[0m\u001b[1;33m)\u001b[0m\u001b[1;33m\u001b[0m\u001b[1;33m\u001b[0m\u001b[0m\n\u001b[0;32m    177\u001b[0m \u001b[1;33m\u001b[0m\u001b[0m\n",
      "\u001b[1;32m~\\AppData\\Local\\Temp\\ipykernel_25116\\2443311208.py\u001b[0m in \u001b[0;36mdata_transfer\u001b[1;34m(self)\u001b[0m\n\u001b[0;32m     27\u001b[0m \u001b[1;33m\u001b[0m\u001b[0m\n\u001b[0;32m     28\u001b[0m                 \u001b[0mdata\u001b[0m \u001b[1;33m=\u001b[0m \u001b[0mjson\u001b[0m\u001b[1;33m.\u001b[0m\u001b[0mload\u001b[0m\u001b[1;33m(\u001b[0m\u001b[0mfp\u001b[0m\u001b[1;33m)\u001b[0m  \u001b[1;31m# load the json files\u001b[0m\u001b[1;33m\u001b[0m\u001b[1;33m\u001b[0m\u001b[0m\n\u001b[1;32m---> 29\u001b[1;33m                 \u001b[1;32mif\u001b[0m \u001b[0mlen\u001b[0m\u001b[1;33m(\u001b[0m\u001b[0mdata\u001b[0m\u001b[1;33m[\u001b[0m\u001b[1;34m'shapes'\u001b[0m\u001b[1;33m]\u001b[0m\u001b[1;33m)\u001b[0m \u001b[1;33m==\u001b[0m \u001b[1;36m0\u001b[0m\u001b[1;33m:\u001b[0m\u001b[1;33m\u001b[0m\u001b[1;33m\u001b[0m\u001b[0m\n\u001b[0m\u001b[0;32m     30\u001b[0m                     \u001b[0mprint\u001b[0m\u001b[1;33m(\u001b[0m\u001b[0mjson_file\u001b[0m\u001b[1;33m)\u001b[0m\u001b[1;33m\u001b[0m\u001b[1;33m\u001b[0m\u001b[0m\n\u001b[0;32m     31\u001b[0m                     \u001b[0mnull_num\u001b[0m \u001b[1;33m+=\u001b[0m \u001b[1;36m1\u001b[0m\u001b[1;33m\u001b[0m\u001b[1;33m\u001b[0m\u001b[0m\n",
      "\u001b[1;31mKeyError\u001b[0m: 'shapes'"
     ]
    }
   ],
   "source": [
    "labelme2coco(test_jsons,'./barley_malt/single_seeds/seeds_malt_test.json', seeds_malt_classes)"
   ]
  },
  {
   "cell_type": "code",
   "execution_count": 4,
   "metadata": {},
   "outputs": [
    {
     "name": "stdout",
     "output_type": "stream",
     "text": [
      "Total convert 55 json files\n"
     ]
    },
    {
     "data": {
      "text/plain": [
       "<__main__.labelme2coco at 0x220b70dcfc8>"
      ]
     },
     "execution_count": 4,
     "metadata": {},
     "output_type": "execute_result"
    }
   ],
   "source": [
    "# Convert Barley Malt train json files\n",
    "\n",
    "labelme_json=glob.glob(r'e:\\temp\\barley_malt\\train\\*.json')\n",
    "labelme2coco(labelme_json,'./barley_malt/barley_malt_train.json', malt_classes)"
   ]
  },
  {
   "cell_type": "code",
   "execution_count": 21,
   "metadata": {},
   "outputs": [
    {
     "name": "stdout",
     "output_type": "stream",
     "text": [
      "Total convert 6 json files\n"
     ]
    },
    {
     "data": {
      "text/plain": [
       "<__main__.labelme2coco at 0x1d98ca192c8>"
      ]
     },
     "execution_count": 21,
     "metadata": {},
     "output_type": "execute_result"
    }
   ],
   "source": [
    "# Convert Barley Malt test json files\n",
    "\n",
    "labelme_json=glob.glob(r'e:\\temp\\barley_malt\\test\\*.json')\n",
    "labelme2coco(labelme_json,'./barley_malt/barley_malt_test.json', malt_classes)"
   ]
  },
  {
   "cell_type": "code",
   "execution_count": null,
   "metadata": {},
   "outputs": [],
   "source": [
    "# Convert train data set json files\n",
    "labelme_json=glob.glob(r'e:\\temp\\train\\*.json')\n",
    "labelme2coco(labelme_json,'./wheat2019_train.json')"
   ]
  },
  {
   "cell_type": "code",
   "execution_count": null,
   "metadata": {},
   "outputs": [],
   "source": [
    "# Convert test data set json files\n",
    "labelme_json=glob.glob(r'E:\\Temp\\val\\good_imgs\\*.json')\n",
    "labelme2coco(labelme_json,'./wheat2019_val.json')"
   ]
  },
  {
   "cell_type": "code",
   "execution_count": null,
   "metadata": {},
   "outputs": [],
   "source": [
    "labelme_json=glob.glob(r'e:\\temp\\val\\*.json')\n",
    "labelme2coco(labelme_json,'./wheat2019_val_mini.json')"
   ]
  },
  {
   "cell_type": "code",
   "execution_count": null,
   "metadata": {},
   "outputs": [],
   "source": [
    "# Convert test data set json files\n",
    "labelme_json=glob.glob(r'e:\\temp\\val\\*.json')\n",
    "labelme2coco(labelme_json,'./wheat2019_val.json')"
   ]
  },
  {
   "cell_type": "code",
   "execution_count": null,
   "metadata": {},
   "outputs": [],
   "source": [
    "labelme_json = glob.glob(r'E:\\mytmp\\g_drv\\val_json\\*.json')\n",
    "labelme2coco(labelme_json,'./wheat2019_spikes_val.json')"
   ]
  },
  {
   "cell_type": "code",
   "execution_count": null,
   "metadata": {},
   "outputs": [],
   "source": [
    "labelme_json = glob.glob(r'E:\\mytmp\\g_drv\\train_json\\*.json')\n",
    "labelme2coco(labelme_json,'./wheat2019_spikes_train.json')"
   ]
  },
  {
   "cell_type": "code",
   "execution_count": null,
   "metadata": {},
   "outputs": [],
   "source": [
    "# Convert train data set json files\n",
    "#labelme_json=glob.glob(r'e:\\temp\\train\\*.json')\n",
    "labelme_json=glob.glob(r'E:\\Temp\\train_class\\wheat good\\*.json')\n",
    "labelme2coco(labelme_json,'./wheat2019_disease_train.json')"
   ]
  },
  {
   "cell_type": "code",
   "execution_count": null,
   "metadata": {},
   "outputs": [],
   "source": [
    "# Convert test data set json files\n",
    "#labelme_json=glob.glob(r'e:\\temp\\val\\*.json')\n",
    "labelme_json=glob.glob(r'E:\\Temp\\val_class\\wheat good\\*.json')\n",
    "labelme2coco(labelme_json,'./wheat2019_disease_val.json')"
   ]
  },
  {
   "cell_type": "code",
   "execution_count": null,
   "metadata": {},
   "outputs": [],
   "source": [
    "labelme_json=glob.glob(r'E:\\Temp\\val\\no_beard\\*.json')\n",
    "labelme2coco(labelme_json,'./wheat2019_no_awn_val.json')"
   ]
  },
  {
   "cell_type": "code",
   "execution_count": null,
   "metadata": {},
   "outputs": [],
   "source": [
    "# convert train data set json files\n",
    "labelme_json=glob.glob(r'e:\\temp\\anchor_test\\*.json')\n",
    "labelme2coco(labelme_json,'./wheat2019_anchor_test.json')"
   ]
  },
  {
   "cell_type": "code",
   "execution_count": null,
   "metadata": {},
   "outputs": [],
   "source": [
    "#convert barley images\n",
    "labelme_json=glob.glob(r'E:\\Temp\\train\\barley\\good\\*.json')\n",
    "labelme2coco(labelme_json,'./2019_barley_train.json')"
   ]
  },
  {
   "cell_type": "code",
   "execution_count": null,
   "metadata": {},
   "outputs": [],
   "source": [
    "# 2020 Barley iter 1 images\n",
    "json_file1 = glob.glob(r'E:\\2020_barley\\barley_less\\iter1\\*.json')\n",
    "json_file2 = glob.glob(r'E:\\2020_barley\\barley_more\\iter1\\*.json')\n",
    "labelme_json = json_file1 + json_file2\n",
    "labelme2coco(labelme_json,'./2020_barley_iter1_train.json')"
   ]
  },
  {
   "cell_type": "code",
   "execution_count": 3,
   "metadata": {},
   "outputs": [
    {
     "name": "stdout",
     "output_type": "stream",
     "text": [
      "Total convert 53 json files\n"
     ]
    },
    {
     "data": {
      "text/plain": [
       "<__main__.labelme2coco at 0x15f63634630>"
      ]
     },
     "execution_count": 3,
     "metadata": {},
     "output_type": "execute_result"
    }
   ],
   "source": [
    "# 2020 Barley iter 1 images\n",
    "json_file = glob.glob(r'E:\\2020_barley\\barley_more\\iter1\\*.json')\n",
    "labelme_json = json_file\n",
    "labelme2coco(labelme_json,'./2020_barley_iter1_more_infer.json')"
   ]
  },
  {
   "cell_type": "code",
   "execution_count": 3,
   "metadata": {},
   "outputs": [
    {
     "name": "stdout",
     "output_type": "stream",
     "text": [
      "Total convert 212 json files\n"
     ]
    },
    {
     "data": {
      "text/plain": [
       "<__main__.labelme2coco at 0x26804d765c0>"
      ]
     },
     "execution_count": 3,
     "metadata": {},
     "output_type": "execute_result"
    }
   ],
   "source": [
    "#2020 barley iter1  less part train images\n",
    "json_file1 = glob.glob(r'E:\\2020_barley\\barley_less\\iter1\\train\\*.json')\n",
    "labelme_json = json_file1\n",
    "labelme2coco(labelme_json,'./2020_barley_iter1_less_train.json')"
   ]
  },
  {
   "cell_type": "code",
   "execution_count": 4,
   "metadata": {},
   "outputs": [
    {
     "name": "stdout",
     "output_type": "stream",
     "text": [
      "Total convert 92 json files\n"
     ]
    },
    {
     "data": {
      "text/plain": [
       "<__main__.labelme2coco at 0x26804d626a0>"
      ]
     },
     "execution_count": 4,
     "metadata": {},
     "output_type": "execute_result"
    }
   ],
   "source": [
    "#2020 barley iter1  less part val images\n",
    "json_file1 = glob.glob(r'E:\\2020_barley\\barley_less\\iter1\\val\\*.json')\n",
    "labelme_json = json_file1\n",
    "labelme2coco(labelme_json,'./2020_barley_iter1_less_val.json')"
   ]
  },
  {
   "cell_type": "code",
   "execution_count": 3,
   "metadata": {},
   "outputs": [
    {
     "name": "stdout",
     "output_type": "stream",
     "text": [
      "Total convert 304 json files\n"
     ]
    },
    {
     "data": {
      "text/plain": [
       "<__main__.labelme2coco at 0x1dd0ac02a20>"
      ]
     },
     "execution_count": 3,
     "metadata": {},
     "output_type": "execute_result"
    }
   ],
   "source": [
    "#2020 barley iter1  less part train + val images together for training\n",
    "json_file1 = glob.glob(r'E:\\2020_barley\\barley_less\\iter1\\train\\*.json')\n",
    "json_file2 = glob.glob(r'E:\\2020_barley\\barley_less\\iter1\\val\\*.json')\n",
    "labelme_json = json_file1 + json_file2\n",
    "labelme2coco(labelme_json,'./2020_barley_iter1_less_train_val.json')"
   ]
  },
  {
   "cell_type": "code",
   "execution_count": 6,
   "metadata": {},
   "outputs": [
    {
     "name": "stdout",
     "output_type": "stream",
     "text": [
      "Total convert 1454 json files\n"
     ]
    },
    {
     "data": {
      "text/plain": [
       "<__main__.labelme2coco at 0x277246b0c88>"
      ]
     },
     "execution_count": 6,
     "metadata": {},
     "output_type": "execute_result"
    }
   ],
   "source": [
    "## 2020 barley iter2 infer jsons\n",
    "json_file = pickle.load(open(\"E:/2020_barley/iter2_infer_jsons.pkl\", \"rb\"))\n",
    "labelme_json = json_file\n",
    "labelme2coco(labelme_json,'./2020_barley_iter2_infer.json')"
   ]
  },
  {
   "cell_type": "code",
   "execution_count": 5,
   "metadata": {},
   "outputs": [
    {
     "data": {
      "text/plain": [
       "1454"
      ]
     },
     "execution_count": 5,
     "metadata": {},
     "output_type": "execute_result"
    }
   ],
   "source": [
    "len(json_file)"
   ]
  },
  {
   "cell_type": "code",
   "execution_count": 3,
   "metadata": {},
   "outputs": [
    {
     "name": "stdout",
     "output_type": "stream",
     "text": [
      "Total convert 261 json files\n"
     ]
    },
    {
     "data": {
      "text/plain": [
       "<__main__.labelme2coco at 0x146b67b4390>"
      ]
     },
     "execution_count": 3,
     "metadata": {},
     "output_type": "execute_result"
    }
   ],
   "source": [
    "# create fake json for wheat 2020 infer\n",
    "labelme_json=glob.glob(\"E:/wheat2020/wheat_infer/*.json\")\n",
    "labelme2coco(labelme_json,'./2020_wheat_fake_infer.json')"
   ]
  },
  {
   "cell_type": "code",
   "execution_count": null,
   "metadata": {},
   "outputs": [],
   "source": [
    "# Using 2019 barley images val part for test\n",
    "labelme_json=glob.glob(r\"E:\\Temp\\val\\barley\\*.json\")\n",
    "labelme2coco(labelme_json,'./2019_barley_val.json')"
   ]
  },
  {
   "cell_type": "code",
   "execution_count": null,
   "metadata": {},
   "outputs": [],
   "source": [
    "# Using wheat 2019 wheat and 2020 barley iter1 less part for training\n",
    "json_file1 = glob.glob(r'E:\\2020_barley\\barley_less\\iter1\\*.json')\n",
    "json_file2 = glob.glob(r'e:\\temp\\train\\*.json')\n",
    "labelme_json = json_file1 + json_file2\n",
    "labelme2coco(labelme_json,'./2020_wheat_barley_iter1_less_train.json')"
   ]
  },
  {
   "cell_type": "code",
   "execution_count": null,
   "metadata": {},
   "outputs": [],
   "source": [
    "#convert no_beard images\n",
    "labelme_json=glob.glob(r'E:\\mytmp\\no_bear_spikes\\*.json')\n",
    "labelme2coco(labelme_json,'./2019_no_beard_test.json')"
   ]
  },
  {
   "cell_type": "code",
   "execution_count": null,
   "metadata": {},
   "outputs": [],
   "source": [
    "name = \"dise_spike_1\"\n",
    "\n",
    "if name.find(\"spike\") != -1:\n",
    "    print (\"spike\")"
   ]
  },
  {
   "cell_type": "code",
   "execution_count": null,
   "metadata": {},
   "outputs": [],
   "source": [
    "import json\n",
    "import os\n",
    "\n",
    "#dataset_dicts = []\n",
    "with open(\"wheat2019_val_dt1.json\") as f_dt1:\n",
    "    dt1 = json.load(f_dt1)\n",
    "    \n",
    "\n",
    "with open(\"wheat2019_val_dt2.json\") as f_dt2:\n",
    "    dt2 = json.load(f_dt2)\n",
    "    \n",
    "for image_dt1 in dt1[\"images\"]:\n",
    "    image_dt1_file_name = \"/home/ceyang/coco/wheat2019_val/\" + image[\"file_name\"]\n",
    "    image_dt1_id = image[\"id\"]"
   ]
  },
  {
   "cell_type": "markdown",
   "metadata": {},
   "source": [
    "### Split spike images ###"
   ]
  },
  {
   "cell_type": "code",
   "execution_count": null,
   "metadata": {
    "scrolled": false
   },
   "outputs": [],
   "source": [
    "labelme_json=glob.glob(r'E:\\img_split\\train_imgs\\*.json')\n",
    "labelme2coco(labelme_json,'./wheat2019_split_train.json')"
   ]
  },
  {
   "cell_type": "code",
   "execution_count": null,
   "metadata": {},
   "outputs": [],
   "source": [
    "labelme_json=glob.glob(r'E:\\img_split\\val_jsons\\*.json')\n",
    "labelme2coco(labelme_json,'./wheat2019_split_val.json')"
   ]
  },
  {
   "cell_type": "markdown",
   "metadata": {},
   "source": [
    "### HSV spike img jsons"
   ]
  },
  {
   "cell_type": "code",
   "execution_count": null,
   "metadata": {},
   "outputs": [],
   "source": [
    "labelme_json=glob.glob(r'E:\\disease_segm\\train_hsv_json\\*.json')\n",
    "labelme2coco(labelme_json,'./wheat2019_hsv_spike_train.json')"
   ]
  },
  {
   "cell_type": "code",
   "execution_count": null,
   "metadata": {},
   "outputs": [],
   "source": [
    "labelme_json=glob.glob(r'E:\\disease_segm\\val_hsv_json\\*.json')\n",
    "labelme2coco(labelme_json,'./wheat2019_hsv_spike_val.json')"
   ]
  },
  {
   "cell_type": "code",
   "execution_count": null,
   "metadata": {},
   "outputs": [],
   "source": [
    "labelme_json=glob.glob(r'E:\\2020_barley\\barley_imgs\\*.json')\n",
    "labelme2coco(labelme_json,'./barley2020_fake_val.json')"
   ]
  },
  {
   "cell_type": "code",
   "execution_count": null,
   "metadata": {},
   "outputs": [],
   "source": []
  }
 ],
 "metadata": {
  "kernelspec": {
   "display_name": "Python 3 (ipykernel)",
   "language": "python",
   "name": "python3"
  },
  "language_info": {
   "codemirror_mode": {
    "name": "ipython",
    "version": 3
   },
   "file_extension": ".py",
   "mimetype": "text/x-python",
   "name": "python",
   "nbconvert_exporter": "python",
   "pygments_lexer": "ipython3",
   "version": "3.7.13"
  }
 },
 "nbformat": 4,
 "nbformat_minor": 2
}
